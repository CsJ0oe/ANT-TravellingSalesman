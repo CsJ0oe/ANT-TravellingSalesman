{
  "nbformat": 4,
  "nbformat_minor": 0,
  "metadata": {
    "colab": {
      "name": "IA-Fourmis-TSP.ipynb",
      "provenance": [],
      "collapsed_sections": []
    },
    "kernelspec": {
      "name": "python3",
      "display_name": "Python 3"
    }
  },
  "cells": [
    {
      "cell_type": "code",
      "metadata": {
        "id": "a4DhHU0KYOvX"
      },
      "source": [
        "import numpy as np\n",
        "import random\n",
        " \n",
        "class Config:\n",
        "    CITIES = ((\"Bordeaux\", (44.833333,-0.566667)), (\"Paris\",(48.8566969,2.3514616)),(\"Nice\",(43.7009358,7.2683912)), (\"Lyon\",(45.7578137,4.8320114)),(\"Nantes\",(47.2186371,-1.5541362)),(\"Brest\",(48.4,-4.483333)),(\"Lille\",(50.633333,3.066667)), (\"Clermont-Ferrand\",(45.783333,3.083333)),(\"Strasbourg\",(48.583333,7.75)),(\"Poitiers\",(46.583333,0.333333)), (\"Angers\",(47.466667,-0.55)),(\"Montpellier\",(43.6,3.883333)),(\"Caen\",(49.183333,-0.35)),(\"Rennes\",(48.083333,-1.683333)),(\"Pau\",(43.3,-0.366667)))\n",
        "    CITIES_LEN = len(CITIES)\n",
        "    pheromones = {}\n",
        " \n",
        "    def __init__(self, A=1, B=1, Y=0, Q=1, EPS=.1, evaporation=.1):\n",
        "        self.A = A\n",
        "        self.B = B\n",
        "        self.Y = Y\n",
        "        self.Q = Q\n",
        "        self.EPS = EPS\n",
        "        self.evaporation = evaporation\n",
        "        for i in range(self.CITIES_LEN):\n",
        "            for j in range(self.CITIES_LEN):\n",
        "               self.pheromones[(i,j)] = self.Q\n",
        " \n",
        "    def distance(self, a,b):\n",
        "        (v1,(x1,y1)), (v2,(x2,y2)) = (self.CITIES[a],self.CITIES[b])\n",
        "        return np.sqrt((x1-x2)**2+(y1-y2)**2)"
      ],
      "execution_count": null,
      "outputs": []
    },
    {
      "cell_type": "code",
      "metadata": {
        "id": "b4e4VGqIt4Ge"
      },
      "source": [
        "class Fourmi:\n",
        "    pathLength = 0\n",
        "    visited = []\n",
        "\n",
        "    def __init__(self):\n",
        "        '''Start at Bordeaux'''\n",
        "        self.visited = [0]\n",
        "        self.pathLength = 0\n",
        "\n",
        "    def constructPath(self):\n",
        "        global config\n",
        "        self.visited = [0]\n",
        "        self.pathLength = 0\n",
        "        while len(self.visited) < config.CITIES_LEN:\n",
        "            self.visited.append(self._nextCity())\n",
        "            self.pathLength += config.distance(self.visited[-2], self.visited[-1])\n",
        "        self.visited.append(0)\n",
        "        self.pathLength += config.distance(self.visited[-2], self.visited[-1])\n",
        "\n",
        "    def deposePheromones(self):\n",
        "        global config\n",
        "        for i in range(1, len(self.visited)):\n",
        "            config.pheromones[(self.visited[i-1],self.visited[i])] += config.Q/self.pathLength\n",
        "\n",
        "    def _nextCity(self):\n",
        "        global config\n",
        "        i = self.visited[-1]\n",
        "        allowed = []\n",
        "        proba = []\n",
        "        for k in range(config.CITIES_LEN):\n",
        "            if (k in self.visited):\n",
        "                continue\n",
        "            allowed.append(k)\n",
        "        pre_calc = 0\n",
        "        for k in allowed:\n",
        "            pre_calc += ((config.pheromones[(i, k)])**config.A) * ((1/config.distance(i, k))**config.B) + config.Y\n",
        "        for j in allowed:\n",
        "            proba.append( ( ((config.pheromones[(i, j)])**config.A) * ((1/config.distance(i, j))**config.B) + config.Y ) / pre_calc )\n",
        "        if np.random.random() < config.EPS:\n",
        "            return allowed[np.argmax(proba)]\n",
        "        else:\n",
        "          return random.choices(allowed, weights=proba)[0]"
      ],
      "execution_count": null,
      "outputs": []
    },
    {
      "cell_type": "code",
      "metadata": {
        "id": "45Am7nKCt8M1"
      },
      "source": [
        "class Colonie():\n",
        "    _fourmis = []\n",
        "    _colonieSize = None\n",
        "\n",
        "    def __init__(self, colonieSize):\n",
        "        self._colonieSize = colonieSize\n",
        "        for i in range(self._colonieSize):\n",
        "            self._fourmis.append(Fourmi())\n",
        "\n",
        "    def oneIteration(self):\n",
        "        global config\n",
        "        for f in self._fourmis:\n",
        "            f.constructPath()\n",
        "        for f in self._fourmis:\n",
        "            f.deposePheromones()\n",
        "        # intensify best path (faster convergence)\n",
        "        m,f = self.bestPath()\n",
        "        for i in range(1, len(f.visited)):\n",
        "            config.pheromones[(f.visited[i-1],f.visited[i])] += config.Q\n",
        "        '''Pheromones evaporation'''\n",
        "        for r in config.pheromones:\n",
        "            config.pheromones[r] *= (1 - config.evaporation)\n",
        "\n",
        "    def bestPath(self):\n",
        "        minn = None\n",
        "        f = None\n",
        "        for i in self._fourmis:\n",
        "            #print(i.pathLength, \" : \", i.visited)\n",
        "            if (minn is None) or (i.pathLength < minn):\n",
        "                minn = i.pathLength\n",
        "                f = i\n",
        "        return minn, f"
      ],
      "execution_count": null,
      "outputs": []
    },
    {
      "cell_type": "code",
      "metadata": {
        "id": "hb5f09cDt-6-",
        "colab": {
          "base_uri": "https://localhost:8080/",
          "height": 1000
        },
        "outputId": "8823f697-0d12-4466-840a-bf0a8bf9f155"
      },
      "source": [
        "import matplotlib.pyplot as plt\n",
        "\n",
        "config = Config(A=1, B=1, Y=0, Q=2)\n",
        "colonie = Colonie(10)\n",
        "Y1 = []\n",
        "for i in range(60):\n",
        "    colonie.oneIteration()\n",
        "    R, _ = colonie.bestPath()\n",
        "    Y1 += [R]\n",
        "    print (\"Iteration :: \", i, \"/ BEST :: \", R)\n",
        "colonie.bestPath()\n",
        "plt.plot(range(len(Y1)), Y1, 'b+')\n",
        "plt.show()\n",
        "plt.close()"
      ],
      "execution_count": null,
      "outputs": [
        {
          "output_type": "stream",
          "text": [
            "Iteration ::  0 / BEST ::  53.54747490756563\n",
            "Iteration ::  1 / BEST ::  49.4882566891855\n",
            "Iteration ::  2 / BEST ::  53.020362190169024\n",
            "Iteration ::  3 / BEST ::  51.06051820128211\n",
            "Iteration ::  4 / BEST ::  54.477592567471376\n",
            "Iteration ::  5 / BEST ::  54.505670265065284\n",
            "Iteration ::  6 / BEST ::  49.4373390672048\n",
            "Iteration ::  7 / BEST ::  49.64005503393406\n",
            "Iteration ::  8 / BEST ::  50.62426002653227\n",
            "Iteration ::  9 / BEST ::  44.83668118719429\n",
            "Iteration ::  10 / BEST ::  42.09433965819282\n",
            "Iteration ::  11 / BEST ::  47.003640292639915\n",
            "Iteration ::  12 / BEST ::  51.189418690629445\n",
            "Iteration ::  13 / BEST ::  43.761040693585784\n",
            "Iteration ::  14 / BEST ::  45.49356730327132\n",
            "Iteration ::  15 / BEST ::  44.541517066716885\n",
            "Iteration ::  16 / BEST ::  45.897651750775864\n",
            "Iteration ::  17 / BEST ::  42.487115438464414\n",
            "Iteration ::  18 / BEST ::  47.997398687349246\n",
            "Iteration ::  19 / BEST ::  43.139078792817664\n",
            "Iteration ::  20 / BEST ::  41.3833628359386\n",
            "Iteration ::  21 / BEST ::  41.3833628359386\n",
            "Iteration ::  22 / BEST ::  41.3833628359386\n",
            "Iteration ::  23 / BEST ::  41.3833628359386\n",
            "Iteration ::  24 / BEST ::  41.3833628359386\n",
            "Iteration ::  25 / BEST ::  39.90070736983834\n",
            "Iteration ::  26 / BEST ::  39.90070736983834\n",
            "Iteration ::  27 / BEST ::  39.90070736983834\n",
            "Iteration ::  28 / BEST ::  39.90070736983834\n",
            "Iteration ::  29 / BEST ::  41.3833628359386\n",
            "Iteration ::  30 / BEST ::  39.90070736983834\n",
            "Iteration ::  31 / BEST ::  39.90070736983834\n",
            "Iteration ::  32 / BEST ::  39.90070736983834\n",
            "Iteration ::  33 / BEST ::  39.90070736983834\n",
            "Iteration ::  34 / BEST ::  39.90070736983834\n",
            "Iteration ::  35 / BEST ::  39.90070736983834\n",
            "Iteration ::  36 / BEST ::  39.90070736983834\n",
            "Iteration ::  37 / BEST ::  39.90070736983834\n",
            "Iteration ::  38 / BEST ::  39.90070736983834\n",
            "Iteration ::  39 / BEST ::  39.90070736983834\n",
            "Iteration ::  40 / BEST ::  39.90070736983834\n",
            "Iteration ::  41 / BEST ::  39.90070736983834\n",
            "Iteration ::  42 / BEST ::  39.90070736983834\n",
            "Iteration ::  43 / BEST ::  39.90070736983834\n",
            "Iteration ::  44 / BEST ::  39.90070736983834\n",
            "Iteration ::  45 / BEST ::  39.90070736983834\n",
            "Iteration ::  46 / BEST ::  39.90070736983834\n",
            "Iteration ::  47 / BEST ::  39.90070736983834\n",
            "Iteration ::  48 / BEST ::  39.90070736983834\n",
            "Iteration ::  49 / BEST ::  39.90070736983834\n",
            "Iteration ::  50 / BEST ::  39.90070736983834\n",
            "Iteration ::  51 / BEST ::  39.90070736983834\n",
            "Iteration ::  52 / BEST ::  39.90070736983834\n",
            "Iteration ::  53 / BEST ::  39.90070736983834\n",
            "Iteration ::  54 / BEST ::  39.90070736983834\n",
            "Iteration ::  55 / BEST ::  39.90070736983834\n",
            "Iteration ::  56 / BEST ::  39.90070736983834\n",
            "Iteration ::  57 / BEST ::  39.90070736983834\n",
            "Iteration ::  58 / BEST ::  39.90070736983834\n",
            "Iteration ::  59 / BEST ::  39.90070736983834\n"
          ],
          "name": "stdout"
        },
        {
          "output_type": "display_data",
          "data": {
            "image/png": "[encoded data removed]",
            "text/plain": [
              "<Figure size 432x288 with 1 Axes>"
            ]
          },
          "metadata": {
            "tags": [],
            "needs_background": "light"
          }
        }
      ]
    },
    {
      "cell_type": "code",
      "metadata": {
        "id": "zbcrdRg5kVlo"
      },
      "source": [
        ""
      ],
      "execution_count": null,
      "outputs": []
    }
  ]
}